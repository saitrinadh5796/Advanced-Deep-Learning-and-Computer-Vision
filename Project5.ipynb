{
 "cells": [
  {
   "cell_type": "code",
   "execution_count": 1,
   "id": "5e6b4da6-6c84-43a2-8c1a-7d5c230c4f23",
   "metadata": {},
   "outputs": [],
   "source": [
    "import numpy as np\n",
    "import pandas as pd"
   ]
  },
  {
   "cell_type": "code",
   "execution_count": 2,
   "id": "73a335c4-e3f1-4de6-8793-ac2114ee538f",
   "metadata": {},
   "outputs": [],
   "source": [
    "data = np.load(\"ORL_faces.np\")\n",
    "for key, value in data.items():\n",
    "    np.savetxt(\"somepath\" + key + \".csv\", value)"
   ]
  },
  {
   "cell_type": "code",
   "execution_count": 3,
   "id": "050738c7-b180-48aa-b92d-f36c18992356",
   "metadata": {},
   "outputs": [],
   "source": [
    "csv_files = ['somepathtestX.csv', 'somepathtestY.csv', 'somepathtrainX.csv', 'somepathtrainY.csv']"
   ]
  },
  {
   "cell_type": "code",
   "execution_count": 4,
   "id": "a58dffd5-fe1e-40e8-99b9-a2ef3eccba15",
   "metadata": {},
   "outputs": [],
   "source": [
    "merged_data = pd.DataFrame()"
   ]
  },
  {
   "cell_type": "code",
   "execution_count": 5,
   "id": "89ff89fc-2567-4304-9bda-ed685c3b8237",
   "metadata": {},
   "outputs": [],
   "source": [
    "data = pd.read_csv(\"somepathtestX.csv\")"
   ]
  },
  {
   "cell_type": "code",
   "execution_count": 6,
   "id": "7dacc641-7a7c-4221-a935-50d44ae29210",
   "metadata": {},
   "outputs": [],
   "source": [
    "data = pd.read_csv(\"somepathtestY.csv\")"
   ]
  },
  {
   "cell_type": "code",
   "execution_count": 7,
   "id": "c00fd527-ae3e-40b9-a299-96ef7611ca73",
   "metadata": {},
   "outputs": [],
   "source": [
    "data = pd.read_csv(\"somepathtrainX.csv\")"
   ]
  },
  {
   "cell_type": "code",
   "execution_count": 8,
   "id": "66302bae-1c65-42c8-b1ba-90d6434e4a2b",
   "metadata": {},
   "outputs": [],
   "source": [
    "data = pd.read_csv(\"somepathtrainY.csv\")"
   ]
  },
  {
   "cell_type": "code",
   "execution_count": 9,
   "id": "4e0bc689-d080-4884-9082-6e8676371b80",
   "metadata": {},
   "outputs": [
    {
     "name": "stderr",
     "output_type": "stream",
     "text": [
      "/var/folders/rs/3bzmj_8x27v98yl3w8br29d40000gn/T/ipykernel_4221/2244276288.py:1: FutureWarning: The frame.append method is deprecated and will be removed from pandas in a future version. Use pandas.concat instead.\n",
      "  merged_data = merged_data.append(data, ignore_index=True)\n"
     ]
    }
   ],
   "source": [
    "merged_data = merged_data.append(data, ignore_index=True)"
   ]
  },
  {
   "cell_type": "code",
   "execution_count": 10,
   "id": "0abb56a0-ceaa-459b-ad50-7db503c7b6b6",
   "metadata": {},
   "outputs": [
    {
     "name": "stdout",
     "output_type": "stream",
     "text": [
      "CSV files merged successfully!\n"
     ]
    }
   ],
   "source": [
    "merged_file=merged_data.to_csv('merged_file.csv', index=False)\n",
    "print(\"CSV files merged successfully!\")"
   ]
  },
  {
   "cell_type": "code",
   "execution_count": 13,
   "id": "191dcbfc-e56f-40d2-8490-8c2347c30d5f",
   "metadata": {},
   "outputs": [],
   "source": [
    "from PIL import Image\n",
    "import os\n",
    "\n",
    "dataset_dir = \"Users/saitrinadh/Downloads\"\n",
    "\n",
    "output_dir = \"Users/saitrinadh/Downloads\"\n",
    "\n",
    "for merged_file in os.listdir(dataset_dir):\n",
    "    if merged_file.endswith(\".jpg\") or merged_file.endswith(\".png\"):\n",
    "        \n",
    "        image_path = os.path.join(dataset_dir, merged_file)\n",
    "        image = Image.open(image_path)\n",
    "\n",
    "        normalized_image = image.normalize()\n",
    "\n",
    "\n",
    "        output_path = os.path.join(output_dir, merged_file)\n",
    "        normalized_image.save(output_path)\n",
    "\n",
    "        print(f\"Normalized image saved: {output_path}\")"
   ]
  },
  {
   "cell_type": "code",
   "execution_count": null,
   "id": "fd6db271-1a98-41ff-977a-1c67b7c3826c",
   "metadata": {},
   "outputs": [],
   "source": [
    "from sklearn.model_selection import train_test_split\n",
    "import pandas as pd\n",
    "\n",
    "dataset_path = \"Users/saitrinadh/Downloads/merged_file.csv\"\n",
    "data = pd.read_csv(dataset_path)\n",
    "\n",
    "X = data.drop(\"target_column\", axis=1)  # Features\n",
    "y = data[\"target_column\"]  # Labels\n",
    "\n",
    "train_ratio = 0.8\n",
    "val_ratio = 0.1\n",
    "test_ratio = 0.1\n",
    "\n",
    "X_train_val, X_test, y_train_val, y_test = train_test_split(X, y, test_size=test_ratio, random_state=42)\n",
    "\n",
    "remaining_ratio = val_ratio / (1 - test_ratio)\n",
    "X_train, X_val, y_train, y_val = train_test_split(X_train_val, y_train_val, test_size=remaining_ratio, random_state=42)\n",
    "\n",
    "# Print the sizes of each set\n",
    "print(\"Train set size:\", len(X_train))\n",
    "print(\"Validation set size:\", len(X_val))\n",
    "print(\"Test set size:\", len(X_test))"
   ]
  },
  {
   "cell_type": "code",
   "execution_count": 12,
   "id": "49073893-5905-45e8-8ee7-44aa081ffbfc",
   "metadata": {},
   "outputs": [],
   "source": [
    "from PIL import Image\n",
    "import os\n",
    "\n",
    "dataset_dir = \"Users/saitrinadh/Downloads\"\n",
    "\n",
    "output_dir = \"Users/saitrinadh/Downloads\"\n",
    "\n",
    "target_width = 224\n",
    "target_height = 224\n",
    "\n",
    "if not os.path.exists(output_dir):\n",
    "    os.makedirs(output_dir)\n",
    "\n",
    "for merged_file in os.listdir(dataset_dir):\n",
    "    if merged_file.endswith(\".jpg\") or merged_file.endswith(\".png\"):\n",
    "        \n",
    "        image_path = os.path.join(dataset_dir, merged_file)\n",
    "        image = Image.open(image_path)\n",
    "\n",
    "        \n",
    "        resized_image = image.resize((target_width, target_height))\n",
    "\n",
    "        \n",
    "        output_path = os.path.join(output_dir, merged_file)\n",
    "        resized_image.save(output_path)\n",
    "\n",
    "        print(f\"Resized image saved: {output_path}\")"
   ]
  },
  {
   "cell_type": "code",
   "execution_count": null,
   "id": "bfc67260-805b-4efa-b11b-45d90d87d44c",
   "metadata": {},
   "outputs": [],
   "source": [
    "from tensorflow.keras.models import Sequential\n",
    "from tensorflow.keras.layers import Conv2D, MaxPooling2D, Flatten, Dense\n",
    "\n",
    "\n",
    "model = Sequential()\n",
    "model.add(Conv2D(32, (3, 3), activation='relu', input_shape=(224, 224, 3)))\n",
    "model.add(MaxPooling2D(pool_size=(2, 2)))\n",
    "model.add(Flatten())\n",
    "model.add(Dense(128, activation='relu'))\n",
    "model.compile(optimizer='adam', loss='categorical_crossentropy', metrics=['accuracy'])\n",
    "\n",
    "model.summary()"
   ]
  },
  {
   "cell_type": "code",
   "execution_count": null,
   "id": "e4d150e5-52b5-40b9-8ead-dd0b24bb80a1",
   "metadata": {},
   "outputs": [],
   "source": [
    "from tensorflow.keras.preprocessing.image import ImageDataGenerator\n",
    "\n",
    "train_data_dir = \"Users/saitrinadh/Downloads\"\n",
    "val_data_dir = \"Users/saitrinadh/Downloads\"\n",
    "\n",
    "# Set the desired image size\n",
    "image_size = (224, 224)\n",
    "\n",
    "batch_size = 32\n",
    "epochs = 10\n",
    "\n",
    "# Create an ImageDataGenerator for data augmentation and normalization\n",
    "train_datagen = ImageDataGenerator(\n",
    "    rescale=1.0 / 255,  # Normalize pixel values between 0 and 1\n",
    "    shear_range=0.2,    # Apply random shear transformations\n",
    "    zoom_range=0.2,     # Apply random zoom transformations\n",
    "    horizontal_flip=True  # Flip images horizontally\n",
    ")\n",
    "\n",
    "val_datagen = ImageDataGenerator(rescale=1.0 / 255)\n",
    "\n",
    "# Generate batches of augmented training and validation data\n",
    "train_generator = train_datagen.flow_from_directory(\n",
    "    train_data_dir,\n",
    "    target_size=image_size,\n",
    "    batch_size=batch_size,\n",
    "    class_mode='categorical'\n",
    ")\n",
    "\n",
    "val_generator = val_datagen.flow_from_directory(\n",
    "    val_data_dir,\n",
    "    target_size=image_size,\n",
    "    batch_size=batch_size,\n",
    "    class_mode='categorical'\n",
    ")\n",
    "\n",
    "# Train the model\n",
    "history = model.fit(\n",
    "    train_generator,\n",
    "    steps_per_epoch=train_generator.samples // batch_size,\n",
    "    epochs=epochs,\n",
    "    validation_data=val_generator,\n",
    "    validation_steps=val_generator.samples // batch_size\n",
    ")"
   ]
  },
  {
   "cell_type": "code",
   "execution_count": null,
   "id": "c7ed3ebb-7b91-4301-a838-05ec7a33825f",
   "metadata": {},
   "outputs": [],
   "source": [
    "import matplotlib.pyplot as plt\n",
    "\n",
    "# Get the training and validation loss from the history object\n",
    "train_loss = history.history['loss']\n",
    "val_loss = history.history['val_loss']\n",
    "\n",
    "# Get the training and validation accuracy from the history object\n",
    "train_accuracy = history.history['accuracy']\n",
    "val_accuracy = history.history['val_accuracy']\n",
    "\n",
    "# Create a plot for the loss\n",
    "plt.figure(figsize=(8, 6))\n",
    "plt.plot(range(1, len(train_loss) + 1), train_loss, label='Training Loss')\n",
    "plt.plot(range(1, len(val_loss) + 1), val_loss, label='Validation Loss')\n",
    "plt.title('Training and Validation Loss')\n",
    "plt.xlabel('Epoch')\n",
    "plt.ylabel('Loss')\n",
    "plt.legend()\n",
    "plt.show()\n",
    "\n",
    "# Create a plot for the accuracy\n",
    "plt.figure(figsize=(8, 6))\n",
    "plt.plot(range(1, len(train_accuracy) + 1), train_accuracy, label='Training Accuracy')\n",
    "plt.plot(range(1, len(val_accuracy) + 1), val_accuracy, label='Validation Accuracy')\n",
    "plt.title('Training and Validation Accuracy')\n",
    "plt.xlabel('Epoch')\n",
    "plt.ylabel('Accuracy')\n",
    "plt.legend()\n",
    "plt.show()"
   ]
  },
  {
   "cell_type": "code",
   "execution_count": null,
   "id": "4a97c869-71cd-4188-abf5-fa3bfd6fb5ec",
   "metadata": {},
   "outputs": [],
   "source": [
    "from tensorflow.keras.preprocessing.image import ImageDataGenerator\n",
    "\n",
    "# Set the paths to the training and validation data directories\n",
    "train_data_dir = \"Users/saitrinadh/Downloads\"\n",
    "val_data_dir = \"Users/saitrinadh/Downloads\"\n",
    "\n",
    "# Set the desired image size\n",
    "image_size = (224, 224)\n",
    "\n",
    "# Set the batch size and initial number of training epochs\n",
    "batch_size = 32\n",
    "epochs = 10\n",
    "\n",
    "# Create an ImageDataGenerator for data augmentation and normalization\n",
    "train_datagen = ImageDataGenerator(\n",
    "    rescale=1.0 / 255,  # Normalize pixel values between 0 and 1\n",
    "    shear_range=0.2,    # Apply random shear transformations\n",
    "    zoom_range=0.2,     # Apply random zoom transformations\n",
    "    horizontal_flip=True  # Flip images horizontally\n",
    ")\n",
    "\n",
    "val_datagen = ImageDataGenerator(rescale=1.0 / 255)\n",
    "\n",
    "# Generate batches of augmented training and validation data\n",
    "train_generator = train_datagen.flow_from_directory(\n",
    "    train_data_dir,\n",
    "    target_size=image_size,\n",
    "    batch_size=batch_size,\n",
    "    class_mode='categorical'\n",
    ")\n",
    "\n",
    "val_generator = val_datagen.flow_from_directory(\n",
    "    val_data_dir,\n",
    "    target_size=image_size,\n",
    "    batch_size=batch_size,\n",
    "    class_mode='categorical'\n",
    ")\n",
    "\n",
    "# Train the model until desired accuracy is reached\n",
    "target_accuracy = 0.9\n",
    "current_accuracy = 0.0\n",
    "current_epochs = 0\n",
    "\n",
    "while current_accuracy < target_accuracy:\n",
    "    # Train the model for additional epochs\n",
    "    history = model.fit(\n",
    "        train_generator,\n",
    "        steps_per_epoch=train_generator.samples // batch_size,\n",
    "        epochs=epochs,\n",
    "        validation_data=val_generator,\n",
    "        validation_steps=val_generator.samples // batch_size\n",
    "    )\n",
    "\n",
    "    # Update the current accuracy and number of epochs\n",
    "    current_accuracy = history.history['accuracy'][-1]\n",
    "    current_epochs += epochs\n",
    "\n",
    "    # Print the current accuracy and number of epochs\n",
    "    print(f\"Current Accuracy: {current_accuracy:.4f}\")\n",
    "    print(f\"Current Epochs: {current_epochs}\\n\")"
   ]
  }
 ],
 "metadata": {
  "kernelspec": {
   "display_name": "Python 3 (ipykernel)",
   "language": "python",
   "name": "python3"
  },
  "language_info": {
   "codemirror_mode": {
    "name": "ipython",
    "version": 3
   },
   "file_extension": ".py",
   "mimetype": "text/x-python",
   "name": "python",
   "nbconvert_exporter": "python",
   "pygments_lexer": "ipython3",
   "version": "3.9.13"
  }
 },
 "nbformat": 4,
 "nbformat_minor": 5
}
